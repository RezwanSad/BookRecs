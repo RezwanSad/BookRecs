{
  "nbformat": 4,
  "nbformat_minor": 0,
  "metadata": {
    "colab": {
      "provenance": []
    },
    "kernelspec": {
      "name": "python3",
      "display_name": "Python 3"
    },
    "language_info": {
      "name": "python"
    }
  },
  "cells": [
    {
      "cell_type": "markdown",
      "source": [
        "# BOOK RECOMMENDATION SYSTEM"
      ],
      "metadata": {
        "id": "g7cEviI-0Mqg"
      }
    },
    {
      "cell_type": "code",
      "source": [
        "import kagglehub\n",
        "import numpy as np\n",
        "import pandas as pd\n",
        "import seaborn as sns\n",
        "import matplotlib.pyplot as plt\n",
        "from sklearn.cluster import KMeans\n",
        "from sklearn import neighbors\n",
        "from sklearn.model_selection import train_test_split\n",
        "from sklearn.preprocessing import MinMaxScaler\n",
        "from sklearn.feature_extraction.text import TfidfVectorizer\n",
        "from scipy.cluster.vq import kmeans, vq\n",
        "from difflib import get_close_matches\n",
        "from matplotlib.lines import Line2D"
      ],
      "metadata": {
        "id": "1_TD7vGZcUOK"
      },
      "execution_count": 45,
      "outputs": []
    },
    {
      "cell_type": "code",
      "source": [
        "path = kagglehub.dataset_download(\"jealousleopard/goodreadsbooks\")\n",
        "df = pd.read_csv(path + '/books.csv', on_bad_lines='skip')\n",
        "df.head()"
      ],
      "metadata": {
        "id": "zzQ8nhfCs9i1"
      },
      "execution_count": null,
      "outputs": []
    },
    {
      "cell_type": "code",
      "source": [
        "df.describe()"
      ],
      "metadata": {
        "colab": {
          "base_uri": "https://localhost:8080/",
          "height": 320
        },
        "id": "7UUqNBdhiwsi",
        "outputId": "cba07d8e-4468-4c1c-f1eb-874217073bc1"
      },
      "execution_count": 2,
      "outputs": [
        {
          "output_type": "execute_result",
          "data": {
            "text/plain": [
              "             bookID  average_rating        isbn13     num_pages  \\\n",
              "count  11123.000000    11123.000000  1.112300e+04  11123.000000   \n",
              "mean   21310.856963        3.934075  9.759880e+12    336.405556   \n",
              "std    13094.727252        0.350485  4.429758e+11    241.152626   \n",
              "min        1.000000        0.000000  8.987060e+09      0.000000   \n",
              "25%    10277.500000        3.770000  9.780345e+12    192.000000   \n",
              "50%    20287.000000        3.960000  9.780582e+12    299.000000   \n",
              "75%    32104.500000        4.140000  9.780872e+12    416.000000   \n",
              "max    45641.000000        5.000000  9.790008e+12   6576.000000   \n",
              "\n",
              "       ratings_count  text_reviews_count  \n",
              "count   1.112300e+04        11123.000000  \n",
              "mean    1.794285e+04          542.048099  \n",
              "std     1.124992e+05         2576.619589  \n",
              "min     0.000000e+00            0.000000  \n",
              "25%     1.040000e+02            9.000000  \n",
              "50%     7.450000e+02           47.000000  \n",
              "75%     5.000500e+03          238.000000  \n",
              "max     4.597666e+06        94265.000000  "
            ],
            "text/html": [
              "\n",
              "  <div id=\"df-9b548f90-1d5c-4f60-b2b9-ccaf4d29477f\" class=\"colab-df-container\">\n",
              "    <div>\n",
              "<style scoped>\n",
              "    .dataframe tbody tr th:only-of-type {\n",
              "        vertical-align: middle;\n",
              "    }\n",
              "\n",
              "    .dataframe tbody tr th {\n",
              "        vertical-align: top;\n",
              "    }\n",
              "\n",
              "    .dataframe thead th {\n",
              "        text-align: right;\n",
              "    }\n",
              "</style>\n",
              "<table border=\"1\" class=\"dataframe\">\n",
              "  <thead>\n",
              "    <tr style=\"text-align: right;\">\n",
              "      <th></th>\n",
              "      <th>bookID</th>\n",
              "      <th>average_rating</th>\n",
              "      <th>isbn13</th>\n",
              "      <th>num_pages</th>\n",
              "      <th>ratings_count</th>\n",
              "      <th>text_reviews_count</th>\n",
              "    </tr>\n",
              "  </thead>\n",
              "  <tbody>\n",
              "    <tr>\n",
              "      <th>count</th>\n",
              "      <td>11123.000000</td>\n",
              "      <td>11123.000000</td>\n",
              "      <td>1.112300e+04</td>\n",
              "      <td>11123.000000</td>\n",
              "      <td>1.112300e+04</td>\n",
              "      <td>11123.000000</td>\n",
              "    </tr>\n",
              "    <tr>\n",
              "      <th>mean</th>\n",
              "      <td>21310.856963</td>\n",
              "      <td>3.934075</td>\n",
              "      <td>9.759880e+12</td>\n",
              "      <td>336.405556</td>\n",
              "      <td>1.794285e+04</td>\n",
              "      <td>542.048099</td>\n",
              "    </tr>\n",
              "    <tr>\n",
              "      <th>std</th>\n",
              "      <td>13094.727252</td>\n",
              "      <td>0.350485</td>\n",
              "      <td>4.429758e+11</td>\n",
              "      <td>241.152626</td>\n",
              "      <td>1.124992e+05</td>\n",
              "      <td>2576.619589</td>\n",
              "    </tr>\n",
              "    <tr>\n",
              "      <th>min</th>\n",
              "      <td>1.000000</td>\n",
              "      <td>0.000000</td>\n",
              "      <td>8.987060e+09</td>\n",
              "      <td>0.000000</td>\n",
              "      <td>0.000000e+00</td>\n",
              "      <td>0.000000</td>\n",
              "    </tr>\n",
              "    <tr>\n",
              "      <th>25%</th>\n",
              "      <td>10277.500000</td>\n",
              "      <td>3.770000</td>\n",
              "      <td>9.780345e+12</td>\n",
              "      <td>192.000000</td>\n",
              "      <td>1.040000e+02</td>\n",
              "      <td>9.000000</td>\n",
              "    </tr>\n",
              "    <tr>\n",
              "      <th>50%</th>\n",
              "      <td>20287.000000</td>\n",
              "      <td>3.960000</td>\n",
              "      <td>9.780582e+12</td>\n",
              "      <td>299.000000</td>\n",
              "      <td>7.450000e+02</td>\n",
              "      <td>47.000000</td>\n",
              "    </tr>\n",
              "    <tr>\n",
              "      <th>75%</th>\n",
              "      <td>32104.500000</td>\n",
              "      <td>4.140000</td>\n",
              "      <td>9.780872e+12</td>\n",
              "      <td>416.000000</td>\n",
              "      <td>5.000500e+03</td>\n",
              "      <td>238.000000</td>\n",
              "    </tr>\n",
              "    <tr>\n",
              "      <th>max</th>\n",
              "      <td>45641.000000</td>\n",
              "      <td>5.000000</td>\n",
              "      <td>9.790008e+12</td>\n",
              "      <td>6576.000000</td>\n",
              "      <td>4.597666e+06</td>\n",
              "      <td>94265.000000</td>\n",
              "    </tr>\n",
              "  </tbody>\n",
              "</table>\n",
              "</div>\n",
              "    <div class=\"colab-df-buttons\">\n",
              "\n",
              "  <div class=\"colab-df-container\">\n",
              "    <button class=\"colab-df-convert\" onclick=\"convertToInteractive('df-9b548f90-1d5c-4f60-b2b9-ccaf4d29477f')\"\n",
              "            title=\"Convert this dataframe to an interactive table.\"\n",
              "            style=\"display:none;\">\n",
              "\n",
              "  <svg xmlns=\"http://www.w3.org/2000/svg\" height=\"24px\" viewBox=\"0 -960 960 960\">\n",
              "    <path d=\"M120-120v-720h720v720H120Zm60-500h600v-160H180v160Zm220 220h160v-160H400v160Zm0 220h160v-160H400v160ZM180-400h160v-160H180v160Zm440 0h160v-160H620v160ZM180-180h160v-160H180v160Zm440 0h160v-160H620v160Z\"/>\n",
              "  </svg>\n",
              "    </button>\n",
              "\n",
              "  <style>\n",
              "    .colab-df-container {\n",
              "      display:flex;\n",
              "      gap: 12px;\n",
              "    }\n",
              "\n",
              "    .colab-df-convert {\n",
              "      background-color: #E8F0FE;\n",
              "      border: none;\n",
              "      border-radius: 50%;\n",
              "      cursor: pointer;\n",
              "      display: none;\n",
              "      fill: #1967D2;\n",
              "      height: 32px;\n",
              "      padding: 0 0 0 0;\n",
              "      width: 32px;\n",
              "    }\n",
              "\n",
              "    .colab-df-convert:hover {\n",
              "      background-color: #E2EBFA;\n",
              "      box-shadow: 0px 1px 2px rgba(60, 64, 67, 0.3), 0px 1px 3px 1px rgba(60, 64, 67, 0.15);\n",
              "      fill: #174EA6;\n",
              "    }\n",
              "\n",
              "    .colab-df-buttons div {\n",
              "      margin-bottom: 4px;\n",
              "    }\n",
              "\n",
              "    [theme=dark] .colab-df-convert {\n",
              "      background-color: #3B4455;\n",
              "      fill: #D2E3FC;\n",
              "    }\n",
              "\n",
              "    [theme=dark] .colab-df-convert:hover {\n",
              "      background-color: #434B5C;\n",
              "      box-shadow: 0px 1px 3px 1px rgba(0, 0, 0, 0.15);\n",
              "      filter: drop-shadow(0px 1px 2px rgba(0, 0, 0, 0.3));\n",
              "      fill: #FFFFFF;\n",
              "    }\n",
              "  </style>\n",
              "\n",
              "    <script>\n",
              "      const buttonEl =\n",
              "        document.querySelector('#df-9b548f90-1d5c-4f60-b2b9-ccaf4d29477f button.colab-df-convert');\n",
              "      buttonEl.style.display =\n",
              "        google.colab.kernel.accessAllowed ? 'block' : 'none';\n",
              "\n",
              "      async function convertToInteractive(key) {\n",
              "        const element = document.querySelector('#df-9b548f90-1d5c-4f60-b2b9-ccaf4d29477f');\n",
              "        const dataTable =\n",
              "          await google.colab.kernel.invokeFunction('convertToInteractive',\n",
              "                                                    [key], {});\n",
              "        if (!dataTable) return;\n",
              "\n",
              "        const docLinkHtml = 'Like what you see? Visit the ' +\n",
              "          '<a target=\"_blank\" href=https://colab.research.google.com/notebooks/data_table.ipynb>data table notebook</a>'\n",
              "          + ' to learn more about interactive tables.';\n",
              "        element.innerHTML = '';\n",
              "        dataTable['output_type'] = 'display_data';\n",
              "        await google.colab.output.renderOutput(dataTable, element);\n",
              "        const docLink = document.createElement('div');\n",
              "        docLink.innerHTML = docLinkHtml;\n",
              "        element.appendChild(docLink);\n",
              "      }\n",
              "    </script>\n",
              "  </div>\n",
              "\n",
              "\n",
              "<div id=\"df-cff463d5-70b8-4ffa-aa57-79baf306de58\">\n",
              "  <button class=\"colab-df-quickchart\" onclick=\"quickchart('df-cff463d5-70b8-4ffa-aa57-79baf306de58')\"\n",
              "            title=\"Suggest charts\"\n",
              "            style=\"display:none;\">\n",
              "\n",
              "<svg xmlns=\"http://www.w3.org/2000/svg\" height=\"24px\"viewBox=\"0 0 24 24\"\n",
              "     width=\"24px\">\n",
              "    <g>\n",
              "        <path d=\"M19 3H5c-1.1 0-2 .9-2 2v14c0 1.1.9 2 2 2h14c1.1 0 2-.9 2-2V5c0-1.1-.9-2-2-2zM9 17H7v-7h2v7zm4 0h-2V7h2v10zm4 0h-2v-4h2v4z\"/>\n",
              "    </g>\n",
              "</svg>\n",
              "  </button>\n",
              "\n",
              "<style>\n",
              "  .colab-df-quickchart {\n",
              "      --bg-color: #E8F0FE;\n",
              "      --fill-color: #1967D2;\n",
              "      --hover-bg-color: #E2EBFA;\n",
              "      --hover-fill-color: #174EA6;\n",
              "      --disabled-fill-color: #AAA;\n",
              "      --disabled-bg-color: #DDD;\n",
              "  }\n",
              "\n",
              "  [theme=dark] .colab-df-quickchart {\n",
              "      --bg-color: #3B4455;\n",
              "      --fill-color: #D2E3FC;\n",
              "      --hover-bg-color: #434B5C;\n",
              "      --hover-fill-color: #FFFFFF;\n",
              "      --disabled-bg-color: #3B4455;\n",
              "      --disabled-fill-color: #666;\n",
              "  }\n",
              "\n",
              "  .colab-df-quickchart {\n",
              "    background-color: var(--bg-color);\n",
              "    border: none;\n",
              "    border-radius: 50%;\n",
              "    cursor: pointer;\n",
              "    display: none;\n",
              "    fill: var(--fill-color);\n",
              "    height: 32px;\n",
              "    padding: 0;\n",
              "    width: 32px;\n",
              "  }\n",
              "\n",
              "  .colab-df-quickchart:hover {\n",
              "    background-color: var(--hover-bg-color);\n",
              "    box-shadow: 0 1px 2px rgba(60, 64, 67, 0.3), 0 1px 3px 1px rgba(60, 64, 67, 0.15);\n",
              "    fill: var(--button-hover-fill-color);\n",
              "  }\n",
              "\n",
              "  .colab-df-quickchart-complete:disabled,\n",
              "  .colab-df-quickchart-complete:disabled:hover {\n",
              "    background-color: var(--disabled-bg-color);\n",
              "    fill: var(--disabled-fill-color);\n",
              "    box-shadow: none;\n",
              "  }\n",
              "\n",
              "  .colab-df-spinner {\n",
              "    border: 2px solid var(--fill-color);\n",
              "    border-color: transparent;\n",
              "    border-bottom-color: var(--fill-color);\n",
              "    animation:\n",
              "      spin 1s steps(1) infinite;\n",
              "  }\n",
              "\n",
              "  @keyframes spin {\n",
              "    0% {\n",
              "      border-color: transparent;\n",
              "      border-bottom-color: var(--fill-color);\n",
              "      border-left-color: var(--fill-color);\n",
              "    }\n",
              "    20% {\n",
              "      border-color: transparent;\n",
              "      border-left-color: var(--fill-color);\n",
              "      border-top-color: var(--fill-color);\n",
              "    }\n",
              "    30% {\n",
              "      border-color: transparent;\n",
              "      border-left-color: var(--fill-color);\n",
              "      border-top-color: var(--fill-color);\n",
              "      border-right-color: var(--fill-color);\n",
              "    }\n",
              "    40% {\n",
              "      border-color: transparent;\n",
              "      border-right-color: var(--fill-color);\n",
              "      border-top-color: var(--fill-color);\n",
              "    }\n",
              "    60% {\n",
              "      border-color: transparent;\n",
              "      border-right-color: var(--fill-color);\n",
              "    }\n",
              "    80% {\n",
              "      border-color: transparent;\n",
              "      border-right-color: var(--fill-color);\n",
              "      border-bottom-color: var(--fill-color);\n",
              "    }\n",
              "    90% {\n",
              "      border-color: transparent;\n",
              "      border-bottom-color: var(--fill-color);\n",
              "    }\n",
              "  }\n",
              "</style>\n",
              "\n",
              "  <script>\n",
              "    async function quickchart(key) {\n",
              "      const quickchartButtonEl =\n",
              "        document.querySelector('#' + key + ' button');\n",
              "      quickchartButtonEl.disabled = true;  // To prevent multiple clicks.\n",
              "      quickchartButtonEl.classList.add('colab-df-spinner');\n",
              "      try {\n",
              "        const charts = await google.colab.kernel.invokeFunction(\n",
              "            'suggestCharts', [key], {});\n",
              "      } catch (error) {\n",
              "        console.error('Error during call to suggestCharts:', error);\n",
              "      }\n",
              "      quickchartButtonEl.classList.remove('colab-df-spinner');\n",
              "      quickchartButtonEl.classList.add('colab-df-quickchart-complete');\n",
              "    }\n",
              "    (() => {\n",
              "      let quickchartButtonEl =\n",
              "        document.querySelector('#df-cff463d5-70b8-4ffa-aa57-79baf306de58 button');\n",
              "      quickchartButtonEl.style.display =\n",
              "        google.colab.kernel.accessAllowed ? 'block' : 'none';\n",
              "    })();\n",
              "  </script>\n",
              "</div>\n",
              "\n",
              "    </div>\n",
              "  </div>\n"
            ],
            "application/vnd.google.colaboratory.intrinsic+json": {
              "type": "dataframe",
              "summary": "{\n  \"name\": \"df\",\n  \"rows\": 8,\n  \"fields\": [\n    {\n      \"column\": \"bookID\",\n      \"properties\": {\n        \"dtype\": \"number\",\n        \"std\": 14252.85737701736,\n        \"min\": 1.0,\n        \"max\": 45641.0,\n        \"num_unique_values\": 8,\n        \"samples\": [\n          21310.856963049537,\n          20287.0,\n          11123.0\n        ],\n        \"semantic_type\": \"\",\n        \"description\": \"\"\n      }\n    },\n    {\n      \"column\": \"average_rating\",\n      \"properties\": {\n        \"dtype\": \"number\",\n        \"std\": 3931.5063275494367,\n        \"min\": 0.0,\n        \"max\": 11123.0,\n        \"num_unique_values\": 8,\n        \"samples\": [\n          3.9340753393868564,\n          3.96,\n          11123.0\n        ],\n        \"semantic_type\": \"\",\n        \"description\": \"\"\n      }\n    },\n    {\n      \"column\": \"isbn13\",\n      \"properties\": {\n        \"dtype\": \"number\",\n        \"std\": 4984644225903.03,\n        \"min\": 11123.0,\n        \"max\": 9790007672386.0,\n        \"num_unique_values\": 8,\n        \"samples\": [\n          9759880247639.154,\n          9780582461536.0,\n          11123.0\n        ],\n        \"semantic_type\": \"\",\n        \"description\": \"\"\n      }\n    },\n    {\n      \"column\": \"  num_pages\",\n      \"properties\": {\n        \"dtype\": \"number\",\n        \"std\": 4165.066218299191,\n        \"min\": 0.0,\n        \"max\": 11123.0,\n        \"num_unique_values\": 8,\n        \"samples\": [\n          336.4055560550211,\n          299.0,\n          11123.0\n        ],\n        \"semantic_type\": \"\",\n        \"description\": \"\"\n      }\n    },\n    {\n      \"column\": \"ratings_count\",\n      \"properties\": {\n        \"dtype\": \"number\",\n        \"std\": 1618517.2369487006,\n        \"min\": 0.0,\n        \"max\": 4597666.0,\n        \"num_unique_values\": 8,\n        \"samples\": [\n          17942.848062573048,\n          745.0,\n          11123.0\n        ],\n        \"semantic_type\": \"\",\n        \"description\": \"\"\n      }\n    },\n    {\n      \"column\": \"text_reviews_count\",\n      \"properties\": {\n        \"dtype\": \"number\",\n        \"std\": 32813.11782870056,\n        \"min\": 0.0,\n        \"max\": 94265.0,\n        \"num_unique_values\": 8,\n        \"samples\": [\n          542.048098534568,\n          47.0,\n          11123.0\n        ],\n        \"semantic_type\": \"\",\n        \"description\": \"\"\n      }\n    }\n  ]\n}"
            }
          },
          "metadata": {},
          "execution_count": 2
        }
      ]
    },
    {
      "cell_type": "code",
      "source": [
        "# check if any null values\n",
        "df.isnull().sum()"
      ],
      "metadata": {
        "id": "tMWoBWdFcfHI",
        "colab": {
          "base_uri": "https://localhost:8080/",
          "height": 460
        },
        "outputId": "3ba5bdac-0bce-4052-b979-734549a57558"
      },
      "execution_count": 3,
      "outputs": [
        {
          "output_type": "execute_result",
          "data": {
            "text/plain": [
              "bookID                0\n",
              "title                 0\n",
              "authors               0\n",
              "average_rating        0\n",
              "isbn                  0\n",
              "isbn13                0\n",
              "language_code         0\n",
              "  num_pages           0\n",
              "ratings_count         0\n",
              "text_reviews_count    0\n",
              "publication_date      0\n",
              "publisher             0\n",
              "dtype: int64"
            ],
            "text/html": [
              "<div>\n",
              "<style scoped>\n",
              "    .dataframe tbody tr th:only-of-type {\n",
              "        vertical-align: middle;\n",
              "    }\n",
              "\n",
              "    .dataframe tbody tr th {\n",
              "        vertical-align: top;\n",
              "    }\n",
              "\n",
              "    .dataframe thead th {\n",
              "        text-align: right;\n",
              "    }\n",
              "</style>\n",
              "<table border=\"1\" class=\"dataframe\">\n",
              "  <thead>\n",
              "    <tr style=\"text-align: right;\">\n",
              "      <th></th>\n",
              "      <th>0</th>\n",
              "    </tr>\n",
              "  </thead>\n",
              "  <tbody>\n",
              "    <tr>\n",
              "      <th>bookID</th>\n",
              "      <td>0</td>\n",
              "    </tr>\n",
              "    <tr>\n",
              "      <th>title</th>\n",
              "      <td>0</td>\n",
              "    </tr>\n",
              "    <tr>\n",
              "      <th>authors</th>\n",
              "      <td>0</td>\n",
              "    </tr>\n",
              "    <tr>\n",
              "      <th>average_rating</th>\n",
              "      <td>0</td>\n",
              "    </tr>\n",
              "    <tr>\n",
              "      <th>isbn</th>\n",
              "      <td>0</td>\n",
              "    </tr>\n",
              "    <tr>\n",
              "      <th>isbn13</th>\n",
              "      <td>0</td>\n",
              "    </tr>\n",
              "    <tr>\n",
              "      <th>language_code</th>\n",
              "      <td>0</td>\n",
              "    </tr>\n",
              "    <tr>\n",
              "      <th>num_pages</th>\n",
              "      <td>0</td>\n",
              "    </tr>\n",
              "    <tr>\n",
              "      <th>ratings_count</th>\n",
              "      <td>0</td>\n",
              "    </tr>\n",
              "    <tr>\n",
              "      <th>text_reviews_count</th>\n",
              "      <td>0</td>\n",
              "    </tr>\n",
              "    <tr>\n",
              "      <th>publication_date</th>\n",
              "      <td>0</td>\n",
              "    </tr>\n",
              "    <tr>\n",
              "      <th>publisher</th>\n",
              "      <td>0</td>\n",
              "    </tr>\n",
              "  </tbody>\n",
              "</table>\n",
              "</div><br><label><b>dtype:</b> int64</label>"
            ]
          },
          "metadata": {},
          "execution_count": 3
        }
      ]
    },
    {
      "cell_type": "code",
      "source": [
        "df.columns.tolist()"
      ],
      "metadata": {
        "colab": {
          "base_uri": "https://localhost:8080/"
        },
        "id": "Ga22FDf4o019",
        "outputId": "17935aa3-ad12-4c58-a618-207829bacb43"
      },
      "execution_count": 4,
      "outputs": [
        {
          "output_type": "execute_result",
          "data": {
            "text/plain": [
              "['bookID',\n",
              " 'title',\n",
              " 'authors',\n",
              " 'average_rating',\n",
              " 'isbn',\n",
              " 'isbn13',\n",
              " 'language_code',\n",
              " '  num_pages',\n",
              " 'ratings_count',\n",
              " 'text_reviews_count',\n",
              " 'publication_date',\n",
              " 'publisher']"
            ]
          },
          "metadata": {},
          "execution_count": 4
        }
      ]
    },
    {
      "cell_type": "code",
      "source": [
        "# Rename the column\n",
        "df = df.rename(columns={'  num_pages': 'num_pages'})"
      ],
      "metadata": {
        "id": "4Dgpq5x4o43u"
      },
      "execution_count": 39,
      "outputs": []
    },
    {
      "cell_type": "code",
      "source": [
        "df.columns.tolist()"
      ],
      "metadata": {
        "colab": {
          "base_uri": "https://localhost:8080/"
        },
        "id": "GrL01jnrpHMy",
        "outputId": "66a0748d-96f2-4ec2-aece-3c0c27a7d845"
      },
      "execution_count": 6,
      "outputs": [
        {
          "output_type": "execute_result",
          "data": {
            "text/plain": [
              "['bookID',\n",
              " 'title',\n",
              " 'authors',\n",
              " 'average_rating',\n",
              " 'isbn',\n",
              " 'isbn13',\n",
              " 'language_code',\n",
              " 'num_pages',\n",
              " 'ratings_count',\n",
              " 'text_reviews_count',\n",
              " 'publication_date',\n",
              " 'publisher']"
            ]
          },
          "metadata": {},
          "execution_count": 6
        }
      ]
    },
    {
      "cell_type": "code",
      "source": [
        "# Function to remove outliers based on thresholds\n",
        "def remove_outliers(data, column, threshold):\n",
        "    return data[data[column] <= threshold]\n",
        "\n",
        "# Remove outliers for specific features\n",
        "df = remove_outliers(df, 'ratings_count', 2000000)\n",
        "df = remove_outliers(df, 'num_pages', 1000)\n",
        "df.dropna(inplace=True)  # Remove rows with missing values"
      ],
      "metadata": {
        "id": "-Esu22TmoMLd"
      },
      "execution_count": 40,
      "outputs": []
    },
    {
      "cell_type": "code",
      "source": [
        "# Feature segregation based on average_rating\n",
        "def segregate_ratings(data):\n",
        "    values = []\n",
        "    for val in data['average_rating']:\n",
        "        if val <= 1:\n",
        "            values.append(\"Between 0 and 1\")\n",
        "        elif val <= 2:\n",
        "            values.append(\"Between 1 and 2\")\n",
        "        elif val <= 3:\n",
        "            values.append(\"Between 2 and 3\")\n",
        "        elif val <= 4:\n",
        "            values.append(\"Between 3 and 4\")\n",
        "        else:\n",
        "            values.append(\"Between 4 and 5\")\n",
        "    return values\n",
        "\n",
        "df['Ratings_Dist'] = segregate_ratings(df)"
      ],
      "metadata": {
        "id": "rOA-7-Mtp6vl"
      },
      "execution_count": 41,
      "outputs": []
    },
    {
      "cell_type": "code",
      "source": [
        "# Normalize numerical features\n",
        "numerical_features = ['average_rating', 'ratings_count', 'num_pages']\n",
        "scaler = MinMaxScaler()\n",
        "df[numerical_features] = scaler.fit_transform(df[numerical_features])\n",
        "\n",
        "# Prepare data for KMeans clustering\n",
        "clustering_features = df[['average_rating', 'ratings_count']]\n",
        "clustering_data = np.asarray([np.asarray(clustering_features['average_rating']), np.asarray(clustering_features['ratings_count'])]).T\n",
        "\n",
        "# Elbow method to determine optimal clusters\n",
        "distortions = []\n",
        "for k in range(2, 11):\n",
        "    k_means = KMeans(n_clusters=k, random_state=42)\n",
        "    k_means.fit(clustering_data)\n",
        "    distortions.append(k_means.inertia_)\n",
        "\n",
        "# Visualize Elbow Method\n",
        "plt.figure(figsize=(10, 6))\n",
        "plt.plot(range(2, 11), distortions, 'bx-')\n",
        "plt.title(\"Elbow Method\")\n",
        "plt.xlabel(\"Number of Clusters\")\n",
        "plt.ylabel(\"Inertia\")\n",
        "plt.show()"
      ],
      "metadata": {
        "colab": {
          "base_uri": "https://localhost:8080/",
          "height": 486
        },
        "id": "q9vFoe8SivgL",
        "outputId": "09bbd10b-e1b5-44fd-f642-fda4e21accf9"
      },
      "execution_count": 42,
      "outputs": [
        {
          "output_type": "display_data",
          "data": {
            "text/plain": [
              "<Figure size 1000x600 with 1 Axes>"
            ],
            "image/png": "[encoded data removed]"
          },
          "metadata": {}
        }
      ]
    },
    {
      "cell_type": "code",
      "source": [
        "# Apply KMeans with optimal clusters\n",
        "optimal_k = 5\n",
        "centroids, _ = kmeans(clustering_data, optimal_k)\n",
        "idx, _ = vq(clustering_data, centroids)"
      ],
      "metadata": {
        "id": "mcC-thvTq2s0"
      },
      "execution_count": 43,
      "outputs": []
    },
    {
      "cell_type": "code",
      "source": [
        "# Plot clusters\n",
        "sns.set_context('paper')\n",
        "plt.figure(figsize=(10, 6))\n",
        "plt.plot(clustering_data[idx == 0, 0], clustering_data[idx == 0, 1], 'or',\n",
        "         clustering_data[idx == 1, 0], clustering_data[idx == 1, 1], 'ob',\n",
        "         clustering_data[idx == 2, 0], clustering_data[idx == 2, 1], 'oy',\n",
        "         clustering_data[idx == 3, 0], clustering_data[idx == 3, 1], 'om',\n",
        "         clustering_data[idx == 4, 0], clustering_data[idx == 4, 1], 'ok')\n",
        "plt.plot(centroids[:, 0], centroids[:, 1], 'sg', markersize=8)\n",
        "\n",
        "# Add legend\n",
        "circle1 = Line2D([0], [0], color='red', marker='o', markerfacecolor='red', markersize=10)\n",
        "circle2 = Line2D([0], [0], color='blue', marker='o', markerfacecolor='blue', markersize=10)\n",
        "circle3 = Line2D([0], [0], color='yellow', marker='o', markerfacecolor='yellow', markersize=10)\n",
        "circle4 = Line2D([0], [0], color='magenta', marker='o', markerfacecolor='magenta', markersize=10)\n",
        "circle5 = Line2D([0], [0], color='black', marker='o', markerfacecolor='black', markersize=10)\n",
        "plt.legend([circle1, circle2, circle3, circle4, circle5],\n",
        "           ['Cluster 1', 'Cluster 2', 'Cluster 3', 'Cluster 4', 'Cluster 5'],\n",
        "           loc='best')\n",
        "plt.title(\"KMeans Clustering\")\n",
        "plt.xlabel(\"Average Rating\")\n",
        "plt.ylabel(\"Ratings Count\")\n",
        "plt.show()\n"
      ],
      "metadata": {
        "colab": {
          "base_uri": "https://localhost:8080/",
          "height": 484
        },
        "id": "c3zEjxf7qQic",
        "outputId": "b63a3f17-71c5-4cb8-e8d0-25b3418a1dbc"
      },
      "execution_count": 46,
      "outputs": [
        {
          "output_type": "display_data",
          "data": {
            "text/plain": [
              "<Figure size 1000x600 with 1 Axes>"
            ],
            "image/png": "[encoded data removed]"
          },
          "metadata": {}
        }
      ]
    },
    {
      "cell_type": "code",
      "source": [
        "# Prepare features for nearest neighbors recommendation\n",
        "scaler = MinMaxScaler()\n",
        "normalized_features = scaler.fit_transform(pd.concat([df['Ratings_Dist'].str.get_dummies(sep=\",\"), df[numerical_features]], axis=1))\n",
        "\n",
        "recommendation_model = neighbors.NearestNeighbors(n_neighbors=6, algorithm='ball_tree')\n",
        "recommendation_model.fit(normalized_features)\n",
        "neighbor_distances, neighbor_indices = recommendation_model.kneighbors(normalized_features)"
      ],
      "metadata": {
        "id": "w_-2R350skwV"
      },
      "execution_count": 56,
      "outputs": []
    },
    {
      "cell_type": "code",
      "source": [
        "# Fit KNN model\n",
        "model = neighbors.NearestNeighbors(n_neighbors=6, algorithm='ball_tree')\n",
        "model.fit(books_features)\n",
        "distance, indices = model.kneighbors(books_features)"
      ],
      "metadata": {
        "id": "vJ6gik08tM0P"
      },
      "execution_count": 48,
      "outputs": []
    },
    {
      "cell_type": "code",
      "source": [
        "# Recommendation functions\n",
        "def find_book_index_by_title(title):\n",
        "    matches = df[df['title'].str.contains(title, case=False, na=False)].index.tolist()\n",
        "    if matches:\n",
        "        return matches[0]\n",
        "    else:\n",
        "        raise ValueError(f\"Book titled '{title}' not found in the dataset.\")\n",
        "\n",
        "def search_books_by_partial_title(partial_title):\n",
        "    matches = [book_title for book_title in df['title'] if partial_title.lower() in book_title.lower()]\n",
        "    for match in matches:\n",
        "        print(match, df[df['title'] == match].index.tolist()[0])\n",
        "\n",
        "def display_recommendations(book_title=None, book_index=None):\n",
        "    try:\n",
        "        if book_index is not None:\n",
        "            for idx in neighbor_indices[book_index][1:]:\n",
        "                print(df.iloc[idx]['title'])\n",
        "        elif book_title is not None:\n",
        "            book_index = find_book_index_by_title(book_title)\n",
        "            for idx in neighbor_indices[book_index][1:]:\n",
        "                print(df.iloc[idx]['title'])\n",
        "    except ValueError as e:\n",
        "        print(e)"
      ],
      "metadata": {
        "id": "RmpuPplxtQup"
      },
      "execution_count": 58,
      "outputs": []
    },
    {
      "cell_type": "code",
      "source": [
        "search_books_by_partial_title(\"Harry Potter\")"
      ],
      "metadata": {
        "colab": {
          "base_uri": "https://localhost:8080/"
        },
        "id": "i0CraJn8tW_x",
        "outputId": "63ad651e-50d0-41ed-f5f5-5856d98c5feb"
      },
      "execution_count": 61,
      "outputs": [
        {
          "output_type": "stream",
          "name": "stdout",
          "text": [
            "Harry Potter and the Chamber of Secrets (Harry Potter  #2) 2\n",
            "Unauthorized Harry Potter Book Seven News: \"Half-Blood Prince\" Analysis and Speculation 5\n",
            "Harry Potter Schoolbooks Box Set: Two Classic Books from the Library of Hogwarts School of Witchcraft and Wizardry 613\n",
            "J.K. Rowling's Harry Potter Novels: A Reader's Guide 614\n",
            "Harry Potter and the Half-Blood Prince (Harry Potter  #6) 615\n",
            "Harry Potter Y La Piedra Filosofal (Harry Potter  #1) 988\n",
            "Harry Potter and the Prisoner of Azkaban (Harry Potter  #3) 1233\n",
            "Looking for God in Harry Potter 4242\n",
            "Mugglenet.Com's What Will Happen in Harry Potter 7: Who Lives  Who Dies  Who Falls in Love and How Will the Adventure Finally End? 4410\n",
            "Harry Potter y el misterio del príncipe (Harry Potter  #6) 4411\n",
            "Harry Potter y la Orden del Fénix (Harry Potter  #5) 4412\n",
            "Ultimate Unofficial Guide to the Mysteries of Harry Potter: Analysis of Books 1-4 4413\n",
            "Harry Potter and Philosophy: If Aristotle Ran Hogwarts 8263\n",
            "Harry Potter and the Sorcerer's Stone (Harry Potter  #1) 8873\n",
            "Harry Potter und die Kammer des Schreckens (Harry Potter  #2) 10343\n",
            "Harry Potter und der Gefangene von Askaban (Harry Potter  #3) 10344\n",
            "Harry Potter ve Sırlar Odası (Harry Potter  #2) 10345\n",
            "Harry Potter und der Gefangene von Askaban (Harry Potter  #3) 10344\n",
            "Harry Potter and the Philosopher's Stone (Harry Potter  #1) 10674\n",
            "Harry Potter and the Goblet of Fire (Harry Potter  #4) 10675\n"
          ]
        }
      ]
    }
  ]
}
